{
 "cells": [
  {
   "cell_type": "code",
   "execution_count": 1,
   "metadata": {},
   "outputs": [],
   "source": [
    "import RPi.GPIO as GPIO\n",
    "import time\n",
    " \n",
    "#设置GPIO模式\n",
    "GPIO.setmode(GPIO.BOARD)\n",
    " \n",
    "#设置接口\n",
    "IN1 = 11\n",
    "IN2 = 12\n",
    "IN3 = 13\n",
    "IN4 = 15\n",
    "\n",
    "IN5 = 36\n",
    "IN6 = 37"
   ]
  },
  {
   "cell_type": "code",
   "execution_count": 2,
   "metadata": {},
   "outputs": [],
   "source": [
    "#初始化接口\n",
    "def init():\n",
    "    GPIO.setup(IN1,GPIO.OUT)\n",
    "    GPIO.setup(IN2,GPIO.OUT)\n",
    "    GPIO.setup(IN3,GPIO.OUT)\n",
    "    GPIO.setup(IN4,GPIO.OUT)\n",
    "    GPIO.output(IN1,GPIO.LOW)\n",
    "    GPIO.output(IN2,GPIO.LOW)\n",
    "    GPIO.output(IN3,GPIO.LOW)\n",
    "    GPIO.output(IN4,GPIO.LOW)\n",
    " \n",
    "#前进\n",
    "def forward(sleep_time):\n",
    "    GPIO.output(IN1,GPIO.LOW)\n",
    "    GPIO.output(IN2,GPIO.HIGH)\n",
    "    GPIO.output(IN3,GPIO.HIGH)\n",
    "    GPIO.output(IN4,GPIO.LOW)\n",
    "    time.sleep(sleep_time)\n",
    "\n",
    " \n",
    "#后退\n",
    "def backward(sleep_time):\n",
    "    GPIO.output(IN1,GPIO.HIGH)\n",
    "    GPIO.output(IN2,GPIO.LOW)\n",
    "    GPIO.output(IN3,GPIO.LOW)\n",
    "    GPIO.output(IN4,GPIO.HIGH)\n",
    "    time.sleep(sleep_time)\n",
    "\n",
    " \n",
    "#左转\n",
    "def turnleft(sleep_time):\n",
    "    GPIO.output(IN1,GPIO.LOW)\n",
    "    GPIO.output(IN2,GPIO.LOW)\n",
    "    GPIO.output(IN3,GPIO.HIGH)\n",
    "    GPIO.output(IN4,GPIO.LOW)\n",
    "    time.sleep(sleep_time)\n",
    "\n",
    " \n",
    "#右转\n",
    "def turnright(sleep_time):\n",
    "    GPIO.output(IN1,GPIO.LOW)\n",
    "    GPIO.output(IN2,GPIO.HIGH)\n",
    "    GPIO.output(IN3,GPIO.LOW)\n",
    "    GPIO.output(IN4,GPIO.LOW)\n",
    "    time.sleep(sleep_time)\n",
    "\n",
    "\n",
    "def stop():\n",
    "    GPIO.output(IN1,GPIO.LOW)\n",
    "    GPIO.output(IN2,GPIO.LOW)\n",
    "    GPIO.output(IN3,GPIO.LOW)\n",
    "    GPIO.output(IN4,GPIO.LOW)\n",
    "    GPIO.cleanup()\n",
    "    "
   ]
  },
  {
   "cell_type": "code",
   "execution_count": 3,
   "metadata": {},
   "outputs": [
    {
     "name": "stderr",
     "output_type": "stream",
     "text": [
      "/tmp/ipykernel_71681/3234204269.py:3: RuntimeWarning: This channel is already in use, continuing anyway.  Use GPIO.setwarnings(False) to disable warnings.\n",
      "  GPIO.setup(IN1,GPIO.OUT)\n",
      "/tmp/ipykernel_71681/3234204269.py:4: RuntimeWarning: This channel is already in use, continuing anyway.  Use GPIO.setwarnings(False) to disable warnings.\n",
      "  GPIO.setup(IN2,GPIO.OUT)\n",
      "/tmp/ipykernel_71681/3234204269.py:5: RuntimeWarning: This channel is already in use, continuing anyway.  Use GPIO.setwarnings(False) to disable warnings.\n",
      "  GPIO.setup(IN3,GPIO.OUT)\n",
      "/tmp/ipykernel_71681/3234204269.py:6: RuntimeWarning: This channel is already in use, continuing anyway.  Use GPIO.setwarnings(False) to disable warnings.\n",
      "  GPIO.setup(IN4,GPIO.OUT)\n"
     ]
    }
   ],
   "source": [
    "init()"
   ]
  },
  {
   "cell_type": "code",
   "execution_count": 16,
   "metadata": {},
   "outputs": [],
   "source": [
    "forward(10)"
   ]
  },
  {
   "cell_type": "code",
   "execution_count": 20,
   "metadata": {},
   "outputs": [],
   "source": [
    "import RPi.GPIO as GPIO\n",
    "import time\n",
    " \n",
    "#设置GPIO模式\n",
    "GPIO.setmode(GPIO.BOARD)\n",
    "\n",
    "class CarMove(object):\n",
    "    def __init__(self):\n",
    "        IN1 = 11\n",
    "        IN2 = 12\n",
    "        IN3 = 13\n",
    "        IN4 = 15\n",
    "\n",
    "        GPIO.setup(IN1, GPIO.OUT)  # GPIO input/output definiation\n",
    "        GPIO.setup(IN2, GPIO.OUT)\n",
    "        GPIO.setup(IN3, GPIO.OUT)\n",
    "        GPIO.setup(IN4, GPIO.OUT)\n",
    "\n",
    "        self.p1 = GPIO.PWM(IN1, 500)  # PWM initialization: 500 Hz\n",
    "        self.p2 = GPIO.PWM(IN2, 500)\n",
    "        self.p3 = GPIO.PWM(IN3, 500)\n",
    "        self.p4 = GPIO.PWM(IN4, 500)\n",
    "\n",
    "        self.p1.start(0)  # motors start\n",
    "        self.p2.start(0)\n",
    "        self.p3.start(0)\n",
    "        self.p4.start(0)\n",
    "\n",
    "    def pwmforward(self,sleep_time):\n",
    "        self.p1.ChangeDutyCycle(0)\n",
    "        self.p2.ChangeDutyCycle(100)\n",
    "        self.p3.ChangeDutyCycle(100)\n",
    "        self.p4.ChangeDutyCycle(0)\n",
    "        time.sleep(sleep_time)\n",
    "        \n",
    "    def pwmbackward(self,sleep_time):\n",
    "        self.p1.ChangeDutyCycle(100)\n",
    "        self.p2.ChangeDutyCycle(0)\n",
    "        self.p3.ChangeDutyCycle(0)\n",
    "        self.p4.ChangeDutyCycle(100)\n",
    "        time.sleep(sleep_time)\n",
    "        \n",
    "    def pwmleft(self,sleep_time):\n",
    "        self.p1.ChangeDutyCycle(0)\n",
    "        self.p2.ChangeDutyCycle(0)\n",
    "        self.p3.ChangeDutyCycle(100)\n",
    "        self.p4.ChangeDutyCycle(0)\n",
    "        time.sleep(sleep_time)\n",
    "        \n",
    "    def pwmright(self,sleep_time):\n",
    "        self.p1.ChangeDutyCycle(0)\n",
    "        self.p2.ChangeDutyCycle(100)\n",
    "        self.p3.ChangeDutyCycle(0)\n",
    "        self.p4.ChangeDutyCycle(0)\n",
    "        time.sleep(sleep_time)\n",
    "    \n",
    "    def pwmstop(self):\n",
    "        self.p1.stop()\n",
    "        self.p2.stop()\n",
    "        self.p3.stop()\n",
    "        self.p4.stop()\n"
   ]
  },
  {
   "cell_type": "code",
   "execution_count": 4,
   "metadata": {},
   "outputs": [],
   "source": [
    "stop()\n"
   ]
  },
  {
   "cell_type": "code",
   "execution_count": 21,
   "metadata": {},
   "outputs": [],
   "source": [
    "car = CarMove()\n",
    "car.pwmforward(5)\n",
    "car.pwmstop()\n",
    "GPIO.cleanup()\n",
    "    "
   ]
  },
  {
   "cell_type": "code",
   "execution_count": null,
   "metadata": {},
   "outputs": [],
   "source": []
  }
 ],
 "metadata": {
  "kernelspec": {
   "display_name": "Python 3",
   "language": "python",
   "name": "python3"
  },
  "language_info": {
   "codemirror_mode": {
    "name": "ipython",
    "version": 3
   },
   "file_extension": ".py",
   "mimetype": "text/x-python",
   "name": "python",
   "nbconvert_exporter": "python",
   "pygments_lexer": "ipython3",
   "version": "3.9.2"
  },
  "orig_nbformat": 4
 },
 "nbformat": 4,
 "nbformat_minor": 2
}
